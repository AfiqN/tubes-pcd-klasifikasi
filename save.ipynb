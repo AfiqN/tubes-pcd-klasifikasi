{
 "cells": [
  {
   "cell_type": "code",
   "execution_count": null,
   "metadata": {},
   "outputs": [],
   "source": [
    "# Create Model Structure\n",
    "input_tensor = Input(shape=(224, 224, 3))\n",
    "class_count = 18\n",
    "\n",
    "base_model = MobileNetV3Large(\n",
    "    weights='imagenet', \n",
    "    include_top=False,\n",
    "    pooling=None,\n",
    "    input_tensor=input_tensor\n",
    ")\n",
    "\n",
    "from tensorflow.keras.models import Model\n",
    "from tensorflow.keras.layers import Dense, MaxPooling2D, Flatten, Dropout, BatchNormalization, GlobalAveragePooling2D\n",
    "from tensorflow.keras.optimizers import RMSprop, AdamW\n",
    "from tensorflow.keras.regularizers import l2\n",
    "\n",
    "x = base_model.output\n",
    "\n",
    "x = Dense(1028, activation='relu')(x)\n",
    "x = AveragePooling2D(pool_size=(2, 2), strides=(2, 2))(x)\n",
    "x = Dense(514, activation='relu')(x)\n",
    "x = AveragePooling2D(pool_size=(2, 2), strides=(2, 2))(x)\n",
    "x = Flatten()(x)\n",
    "\n",
    "x = Dense(class_count, activation='softmax')(x)\n",
    "\n",
    "model = Model(inputs=base_model.input, outputs=x)\n",
    "\n",
    "optimizer = Adam(learning_rate=1e-5)\n",
    "model.compile(optimizer=optimizer, \n",
    "              loss='categorical_crossentropy', \n",
    "              metrics=['accuracy', 'f1_score'])\n",
    "\n",
    "model.summary()\n",
    "\n",
    "# Load weights\n",
    "model.load_weights('MobileNetV3_PlantVillage.keras')\n",
    "\n",
    "# Save the model\n",
    "model.save('MobileNetV3_PlantVillage_updated.keras')\n"
   ]
  }
 ],
 "metadata": {
  "kernelspec": {
   "display_name": "Python 3 (ipykernel)",
   "language": "python",
   "name": "python3"
  }
 },
 "nbformat": 4,
 "nbformat_minor": 2
}
